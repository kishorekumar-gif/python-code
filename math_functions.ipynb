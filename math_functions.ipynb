{
  "nbformat": 4,
  "nbformat_minor": 0,
  "metadata": {
    "colab": {
      "provenance": [],
      "authorship_tag": "ABX9TyNnLRaIF85b+M1IuktBL05S",
      "include_colab_link": true
    },
    "kernelspec": {
      "name": "python3",
      "display_name": "Python 3"
    },
    "language_info": {
      "name": "python"
    }
  },
  "cells": [
    {
      "cell_type": "markdown",
      "metadata": {
        "id": "view-in-github",
        "colab_type": "text"
      },
      "source": [
        "<a href=\"https://colab.research.google.com/github/kishorekumar-gif/python-concepts/blob/main/math_functions.ipynb\" target=\"_parent\"><img src=\"https://colab.research.google.com/assets/colab-badge.svg\" alt=\"Open In Colab\"/></a>"
      ]
    },
    {
      "cell_type": "code",
      "source": [
        "#convert binary into decimal"
      ],
      "metadata": {
        "id": "fB0Xcw4jx38F"
      },
      "execution_count": null,
      "outputs": []
    },
    {
      "cell_type": "code",
      "execution_count": null,
      "metadata": {
        "colab": {
          "base_uri": "https://localhost:8080/",
          "height": 36
        },
        "id": "Eqiuhk8-uqlK",
        "outputId": "e32bdfc4-7cec-494f-f0d1-edaa81034b64"
      },
      "outputs": [
        {
          "output_type": "execute_result",
          "data": {
            "text/plain": [
              "'0b11101'"
            ],
            "application/vnd.google.colaboratory.intrinsic+json": {
              "type": "string"
            }
          },
          "metadata": {},
          "execution_count": 1
        }
      ],
      "source": [
        "bin(29)"
      ]
    },
    {
      "cell_type": "code",
      "source": [
        "b=int('11101',3)\n",
        "print(b)"
      ],
      "metadata": {
        "colab": {
          "base_uri": "https://localhost:8080/"
        },
        "id": "ZP5lemHlwJfp",
        "outputId": "852a8952-adea-4bf6-99be-92780a89b91a"
      },
      "execution_count": null,
      "outputs": [
        {
          "output_type": "stream",
          "name": "stdout",
          "text": [
            "118\n"
          ]
        }
      ]
    },
    {
      "cell_type": "code",
      "source": [
        "#python comparison operators\n",
        "#operator     name     example\n",
        "==          equal     x==y    x=7 y=9 False\n",
        "!=          not equal x!=y    x=7 y=9 True\n",
        ">           greater than x>y  x=7 y=9 false\n",
        "<           less than x<y     x=7 y=9 true\n",
        ">=          greater than or equal to x>=y  x=7 y=7 true\n",
        "<=          less than or equal to x<=y     x=7 y=9 true"
      ],
      "metadata": {
        "id": "x77d6k2ZwlPR"
      },
      "execution_count": null,
      "outputs": []
    },
    {
      "cell_type": "code",
      "source": [
        "#python logical operators\n",
        "\n",
        "#and returns true both statements are true\n",
        "#or returns true if one of the statement is true\n",
        "#not reverse the result returns false if statement is true"
      ],
      "metadata": {
        "id": "I4G76GDI9Opi"
      },
      "execution_count": null,
      "outputs": []
    },
    {
      "cell_type": "code",
      "source": [
        "a=6\n",
        "b=8\n",
        "print (a < 8 and b > 6)\n",
        "print (a < 8 or b < 6)\n",
        "print(not(a < 8 and b > 6))"
      ],
      "metadata": {
        "colab": {
          "base_uri": "https://localhost:8080/"
        },
        "id": "C-HKX9Ym-aBy",
        "outputId": "8e9f7061-875f-4c8d-83cd-1b6be9afbb83"
      },
      "execution_count": null,
      "outputs": [
        {
          "output_type": "stream",
          "name": "stdout",
          "text": [
            "True\n",
            "True\n",
            "False\n"
          ]
        }
      ]
    },
    {
      "cell_type": "code",
      "source": [
        "#python identity opertors\n",
        "-is returns true if both variables are same object\n",
        "-is not returns true if both variables are not same object\n",
        "\n"
      ],
      "metadata": {
        "id": "8w5G_XeF_IqL"
      },
      "execution_count": null,
      "outputs": []
    },
    {
      "cell_type": "code",
      "source": [
        "a=(3,3,4) #object memory location 1\n",
        "b=a       #1\n",
        "print (a is b)\n"
      ],
      "metadata": {
        "colab": {
          "base_uri": "https://localhost:8080/"
        },
        "id": "INlhEMGVB_fp",
        "outputId": "2c3f1fb2-7c96-41b6-e650-053bb0024197"
      },
      "execution_count": null,
      "outputs": [
        {
          "output_type": "stream",
          "name": "stdout",
          "text": [
            "True\n"
          ]
        }
      ]
    },
    {
      "cell_type": "code",
      "source": [
        "\n",
        "u=259\n",
        "y=259\n",
        "print(y is u)\n",
        "\n",
        "t=-3\n",
        "i=-3\n",
        "print(i is t)"
      ],
      "metadata": {
        "colab": {
          "base_uri": "https://localhost:8080/"
        },
        "id": "kQr2HVJFCkX-",
        "outputId": "69657798-b374-4e76-82ad-e14e198f17fd"
      },
      "execution_count": null,
      "outputs": [
        {
          "output_type": "stream",
          "name": "stdout",
          "text": [
            "False\n",
            "True\n"
          ]
        }
      ]
    },
    {
      "cell_type": "code",
      "source": [
        "#python membership operators\n",
        "1.in returns true if a sequence with the specified value is present in the object\n",
        "2.not in returns true if a sequence with the specified value is not present in the object"
      ],
      "metadata": {
        "id": "xcaCN5yHFsnQ"
      },
      "execution_count": null,
      "outputs": []
    },
    {
      "cell_type": "code",
      "source": [
        "sports = (\"cricket\" ,\"volleyball\" ,\"baseball\")\n",
        "print(\"cricket\" in sports)\n",
        "\n",
        "print(\"VOLLEYBALL\" in  sports)\n",
        "print ('Baseball'in sports)"
      ],
      "metadata": {
        "colab": {
          "base_uri": "https://localhost:8080/"
        },
        "id": "VTmp1n9vGoNL",
        "outputId": "b27a789e-5574-468e-af49-b43042e4f560"
      },
      "execution_count": null,
      "outputs": [
        {
          "output_type": "stream",
          "name": "stdout",
          "text": [
            "True\n",
            "False\n",
            "False\n"
          ]
        }
      ]
    },
    {
      "cell_type": "code",
      "source": [
        "#math module\n",
        "import math"
      ],
      "metadata": {
        "id": "ONY1VZUfHD-s"
      },
      "execution_count": null,
      "outputs": []
    },
    {
      "cell_type": "code",
      "source": [
        "math.ceil(4.7)\n"
      ],
      "metadata": {
        "colab": {
          "base_uri": "https://localhost:8080/"
        },
        "id": "sJr6WByh7nvj",
        "outputId": "6d4062e6-6ef0-448c-dc83-133b95dd599d"
      },
      "execution_count": null,
      "outputs": [
        {
          "output_type": "execute_result",
          "data": {
            "text/plain": [
              "5"
            ]
          },
          "metadata": {},
          "execution_count": 3
        }
      ]
    },
    {
      "cell_type": "code",
      "source": [
        "math.floor(3.4)"
      ],
      "metadata": {
        "colab": {
          "base_uri": "https://localhost:8080/"
        },
        "id": "JyaAbMGD71WO",
        "outputId": "1d93cb08-e359-4167-fc6a-ec1e4f8a1b6c"
      },
      "execution_count": null,
      "outputs": [
        {
          "output_type": "execute_result",
          "data": {
            "text/plain": [
              "3"
            ]
          },
          "metadata": {},
          "execution_count": 4
        }
      ]
    },
    {
      "cell_type": "code",
      "source": [
        "math.sqrt(9)"
      ],
      "metadata": {
        "colab": {
          "base_uri": "https://localhost:8080/"
        },
        "id": "99lu1-zE7_OL",
        "outputId": "74d840b8-f526-4e1e-a48c-990eb2a97608"
      },
      "execution_count": null,
      "outputs": [
        {
          "output_type": "execute_result",
          "data": {
            "text/plain": [
              "3.0"
            ]
          },
          "metadata": {},
          "execution_count": 12
        }
      ]
    },
    {
      "cell_type": "code",
      "source": [
        "math.pow(2,3/2)"
      ],
      "metadata": {
        "colab": {
          "base_uri": "https://localhost:8080/"
        },
        "id": "WjCs1S038Elw",
        "outputId": "5ac80fe9-0446-4441-a51e-d9de93b066db"
      },
      "execution_count": null,
      "outputs": [
        {
          "output_type": "execute_result",
          "data": {
            "text/plain": [
              "2.8284271247461903"
            ]
          },
          "metadata": {},
          "execution_count": 15
        }
      ]
    },
    {
      "cell_type": "code",
      "source": [
        "print(math.pi)\n",
        "print(math.e)\n",
        "print(math.tau)"
      ],
      "metadata": {
        "colab": {
          "base_uri": "https://localhost:8080/"
        },
        "id": "t71VQF_i8mZt",
        "outputId": "871b2c94-4817-491e-bd79-7486287425b3"
      },
      "execution_count": null,
      "outputs": [
        {
          "output_type": "stream",
          "name": "stdout",
          "text": [
            "3.141592653589793\n",
            "2.718281828459045\n",
            "6.283185307179586\n"
          ]
        }
      ]
    },
    {
      "cell_type": "code",
      "source": [
        "math.trunc(3.6)\n"
      ],
      "metadata": {
        "colab": {
          "base_uri": "https://localhost:8080/"
        },
        "id": "C-cGBzVT8_LZ",
        "outputId": "e457c934-b72b-475a-ca27-677eb617f654"
      },
      "execution_count": null,
      "outputs": [
        {
          "output_type": "execute_result",
          "data": {
            "text/plain": [
              "3"
            ]
          },
          "metadata": {},
          "execution_count": 21
        }
      ]
    },
    {
      "cell_type": "code",
      "source": [
        "math.fabs(-9)"
      ],
      "metadata": {
        "colab": {
          "base_uri": "https://localhost:8080/"
        },
        "id": "hsrinISh-yxT",
        "outputId": "273e97f9-f82f-4c48-d502-6e3958083227"
      },
      "execution_count": null,
      "outputs": [
        {
          "output_type": "execute_result",
          "data": {
            "text/plain": [
              "9.0"
            ]
          },
          "metadata": {},
          "execution_count": 29
        }
      ]
    },
    {
      "cell_type": "code",
      "source": [
        "math.exp(6)  #e^x"
      ],
      "metadata": {
        "colab": {
          "base_uri": "https://localhost:8080/"
        },
        "id": "hB2EOI7I-yea",
        "outputId": "45eab763-d912-4456-fbec-6bd2c841d636"
      },
      "execution_count": null,
      "outputs": [
        {
          "output_type": "execute_result",
          "data": {
            "text/plain": [
              "403.4287934927351"
            ]
          },
          "metadata": {},
          "execution_count": 30
        }
      ]
    },
    {
      "cell_type": "code",
      "source": [
        "#math.log(x,base)\n",
        "math.log(16,2)"
      ],
      "metadata": {
        "colab": {
          "base_uri": "https://localhost:8080/"
        },
        "id": "Z5K_IejC_PeC",
        "outputId": "75380db3-330a-4dd0-be5c-14319487181a"
      },
      "execution_count": null,
      "outputs": [
        {
          "output_type": "execute_result",
          "data": {
            "text/plain": [
              "4.0"
            ]
          },
          "metadata": {},
          "execution_count": 35
        }
      ]
    },
    {
      "cell_type": "code",
      "source": [
        "print(math.factorial(6))\n",
        "print(math.gcd(50,100))\n"
      ],
      "metadata": {
        "colab": {
          "base_uri": "https://localhost:8080/"
        },
        "id": "UzRclLJvAQk-",
        "outputId": "34bea16b-c66c-4748-cd79-e9b5af4bc761"
      },
      "execution_count": null,
      "outputs": [
        {
          "output_type": "stream",
          "name": "stdout",
          "text": [
            "720\n",
            "50\n"
          ]
        }
      ]
    },
    {
      "cell_type": "code",
      "source": [
        "#python conditional statement\n",
        "a=23\n",
        "b=38\n",
        "if b>a:\n",
        "  print(\"yes\")"
      ],
      "metadata": {
        "colab": {
          "base_uri": "https://localhost:8080/"
        },
        "id": "ufKSbbz79vgq",
        "outputId": "74328fa8-d473-41f6-84fd-dc270fd5913f"
      },
      "execution_count": null,
      "outputs": [
        {
          "output_type": "stream",
          "name": "stdout",
          "text": [
            "yes\n"
          ]
        }
      ]
    },
    {
      "cell_type": "code",
      "source": [],
      "metadata": {
        "id": "arwGNIki-DwC"
      },
      "execution_count": null,
      "outputs": []
    }
  ]
}