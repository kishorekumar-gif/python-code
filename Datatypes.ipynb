{
 "cells": [
  {
   "cell_type": "code",
   "execution_count": 1,
   "id": "cfdcf86c-84d2-4e64-bfec-3a1aca72c97b",
   "metadata": {},
   "outputs": [
    {
     "data": {
      "text/plain": [
       "10"
      ]
     },
     "execution_count": 1,
     "metadata": {},
     "output_type": "execute_result"
    }
   ],
   "source": [
    "a=10\n",
    "a"
   ]
  },
  {
   "cell_type": "code",
   "execution_count": 2,
   "id": "737ffbbb-2332-49ef-a088-4f952eec6402",
   "metadata": {},
   "outputs": [
    {
     "data": {
      "text/plain": [
       "45"
      ]
     },
     "execution_count": 2,
     "metadata": {},
     "output_type": "execute_result"
    }
   ],
   "source": [
    "_a=45\n",
    "_a"
   ]
  },
  {
   "cell_type": "code",
   "execution_count": 3,
   "id": "4253d1c3-da46-4c5e-b75f-edf31f1cab01",
   "metadata": {},
   "outputs": [],
   "source": [
    "virat_kholi=100"
   ]
  },
  {
   "cell_type": "code",
   "execution_count": 4,
   "id": "3e3580f1-8799-43e3-a675-be38c47f8a0e",
   "metadata": {},
   "outputs": [
    {
     "data": {
      "text/plain": [
       "100"
      ]
     },
     "execution_count": 4,
     "metadata": {},
     "output_type": "execute_result"
    }
   ],
   "source": [
    "virat_kholi"
   ]
  },
  {
   "cell_type": "code",
   "execution_count": 5,
   "id": "9fc32ba9-a3b1-488c-8dcf-31fb1b1599db",
   "metadata": {},
   "outputs": [
    {
     "data": {
      "text/plain": [
       "int"
      ]
     },
     "execution_count": 5,
     "metadata": {},
     "output_type": "execute_result"
    }
   ],
   "source": [
    "b=44\n",
    "type(b)"
   ]
  },
  {
   "cell_type": "code",
   "execution_count": 6,
   "id": "fa0ff067-9142-4475-aa10-07408ab6cf3b",
   "metadata": {},
   "outputs": [
    {
     "data": {
      "text/plain": [
       "str"
      ]
     },
     "execution_count": 6,
     "metadata": {},
     "output_type": "execute_result"
    }
   ],
   "source": [
    "a='kishorekumar'\n",
    "type(a)"
   ]
  },
  {
   "cell_type": "code",
   "execution_count": null,
   "id": "fadd7f85-f0e3-4b05-8430-4b0fbad023b8",
   "metadata": {},
   "outputs": [],
   "source": [
    "a=78\n",
    "b=89\n",
    "b=a\n",
    "print(b)"
   ]
  },
  {
   "cell_type": "code",
   "execution_count": null,
   "id": "d4c2cdcd-d6b8-4bbd-af5a-9cd60fc0b00c",
   "metadata": {},
   "outputs": [],
   "source": [
    "single value assignment\n"
   ]
  },
  {
   "cell_type": "code",
   "execution_count": null,
   "id": "245ed77d-2127-482a-b14b-758c395215fc",
   "metadata": {},
   "outputs": [],
   "source": [
    "name='kishore'"
   ]
  },
  {
   "cell_type": "code",
   "execution_count": null,
   "id": "84771232-c16f-45a5-b603-f8e706e67a77",
   "metadata": {},
   "outputs": [],
   "source": [
    "salary='200000'"
   ]
  },
  {
   "cell_type": "code",
   "execution_count": null,
   "id": "592b0480-2c66-4d4b-b3a6-f03c97a0cfcb",
   "metadata": {},
   "outputs": [],
   "source": [
    "address =\"banglore\""
   ]
  },
  {
   "cell_type": "code",
   "execution_count": null,
   "id": "5d5c786f-c0dc-42dd-be2d-024cf6f75137",
   "metadata": {},
   "outputs": [],
   "source": [
    "print(name)\n",
    "print(address)\n",
    "print(salary)"
   ]
  },
  {
   "cell_type": "code",
   "execution_count": null,
   "id": "fb32f319-9d0a-48ba-bb18-07710a9f1899",
   "metadata": {},
   "outputs": [],
   "source": [
    "multiple value assignment"
   ]
  },
  {
   "cell_type": "code",
   "execution_count": null,
   "id": "0b62d1b8-e256-4a2e-b275-add3359cdbc0",
   "metadata": {},
   "outputs": [],
   "source": [
    "x=y=z =30\n"
   ]
  },
  {
   "cell_type": "code",
   "execution_count": null,
   "id": "38627793-34db-4c32-8bef-1afe062b6ded",
   "metadata": {},
   "outputs": [],
   "source": [
    "x"
   ]
  },
  {
   "cell_type": "code",
   "execution_count": null,
   "id": "c1ab5673-96c7-46bd-8e32-069e25f9204d",
   "metadata": {},
   "outputs": [],
   "source": [
    "y"
   ]
  },
  {
   "cell_type": "code",
   "execution_count": 7,
   "id": "3da323b5-e79a-4424-8648-aeb8c8ba7b97",
   "metadata": {},
   "outputs": [],
   "source": [
    "Class =\"pythonbatch\""
   ]
  },
  {
   "cell_type": "code",
   "execution_count": 10,
   "id": "6e510250-9c2c-4081-bcd3-881b18c08a8a",
   "metadata": {},
   "outputs": [
    {
     "data": {
      "text/plain": [
       "'pythonbatch'"
      ]
     },
     "execution_count": 10,
     "metadata": {},
     "output_type": "execute_result"
    }
   ],
   "source": [
    "Class.lower()"
   ]
  },
  {
   "cell_type": "code",
   "execution_count": 11,
   "id": "88cfc8cc-560a-4f2a-a6a7-bb13202b52a6",
   "metadata": {},
   "outputs": [
    {
     "data": {
      "text/plain": [
       "'PYTHONBATCH'"
      ]
     },
     "execution_count": 11,
     "metadata": {},
     "output_type": "execute_result"
    }
   ],
   "source": [
    "Class.upper()"
   ]
  },
  {
   "cell_type": "code",
   "execution_count": 12,
   "id": "7ed12121-6f2f-415c-9714-882bf567b450",
   "metadata": {},
   "outputs": [
    {
     "data": {
      "text/plain": [
       "'Pythonbatch'"
      ]
     },
     "execution_count": 12,
     "metadata": {},
     "output_type": "execute_result"
    }
   ],
   "source": [
    "Class.title()"
   ]
  },
  {
   "cell_type": "code",
   "execution_count": 13,
   "id": "6ff1e5fc-1f3e-4a19-8b9e-d2ada29cd914",
   "metadata": {},
   "outputs": [
    {
     "data": {
      "text/plain": [
       "'Pythonbatch'"
      ]
     },
     "execution_count": 13,
     "metadata": {},
     "output_type": "execute_result"
    }
   ],
   "source": [
    "Class.capitalize()"
   ]
  },
  {
   "cell_type": "code",
   "execution_count": 14,
   "id": "cb7358d4-9e58-4f44-9889-d804c2e0b573",
   "metadata": {},
   "outputs": [
    {
     "data": {
      "text/plain": [
       "'PYTHONBATCH'"
      ]
     },
     "execution_count": 14,
     "metadata": {},
     "output_type": "execute_result"
    }
   ],
   "source": [
    "Class.swapcase()"
   ]
  },
  {
   "cell_type": "code",
   "execution_count": 15,
   "id": "62c9b063-b571-4e17-9ff7-176596865aca",
   "metadata": {},
   "outputs": [
    {
     "data": {
      "text/plain": [
       "True"
      ]
     },
     "execution_count": 15,
     "metadata": {},
     "output_type": "execute_result"
    }
   ],
   "source": [
    "Class.isalpha()"
   ]
  },
  {
   "cell_type": "code",
   "execution_count": 16,
   "id": "95cc871e-654a-42cf-a2b5-79322f1006a6",
   "metadata": {},
   "outputs": [
    {
     "data": {
      "text/plain": [
       "True"
      ]
     },
     "execution_count": 16,
     "metadata": {},
     "output_type": "execute_result"
    }
   ],
   "source": [
    "Class.isalnum()"
   ]
  },
  {
   "cell_type": "code",
   "execution_count": 17,
   "id": "93ea4a7f-4595-46e1-ae0a-3ee902da8888",
   "metadata": {},
   "outputs": [
    {
     "data": {
      "text/plain": [
       "False"
      ]
     },
     "execution_count": 17,
     "metadata": {},
     "output_type": "execute_result"
    }
   ],
   "source": [
    "Class.isnumeric()"
   ]
  },
  {
   "cell_type": "code",
   "execution_count": 18,
   "id": "e37292e2-fe1e-4551-b3a7-6c4c9b28934c",
   "metadata": {},
   "outputs": [
    {
     "data": {
      "text/plain": [
       "True"
      ]
     },
     "execution_count": 18,
     "metadata": {},
     "output_type": "execute_result"
    }
   ],
   "source": [
    "Class.startswith(\"p\")"
   ]
  },
  {
   "cell_type": "code",
   "execution_count": 12,
   "id": "fd6a968e-4230-440e-b396-f768716fceec",
   "metadata": {
    "scrolled": true
   },
   "outputs": [
    {
     "data": {
      "text/plain": [
       "True"
      ]
     },
     "execution_count": 12,
     "metadata": {},
     "output_type": "execute_result"
    }
   ],
   "source": [
    "Class.endswith(\"h\")"
   ]
  },
  {
   "cell_type": "code",
   "execution_count": 18,
   "id": "d2bf244f-110f-41e9-81a6-d828ee8d42eb",
   "metadata": {},
   "outputs": [],
   "source": [
    "                           #DATA TYPES"
   ]
  },
  {
   "cell_type": "code",
   "execution_count": 2,
   "id": "9308f3a9-b23b-40ec-983d-ae40a3189008",
   "metadata": {
    "scrolled": true
   },
   "outputs": [
    {
     "name": "stdin",
     "output_type": "stream",
     "text": [
      "enter the value of x 19\n"
     ]
    }
   ],
   "source": [
    "x=int(input(\"enter the value of x\"))"
   ]
  },
  {
   "cell_type": "code",
   "execution_count": 5,
   "id": "b6f47f06-7631-4e14-ac9c-8be0e3d9c340",
   "metadata": {},
   "outputs": [
    {
     "name": "stdin",
     "output_type": "stream",
     "text": [
      "give a decimal values: 3\n"
     ]
    }
   ],
   "source": [
    "w= float(input(\"give a decimal values:\"))"
   ]
  },
  {
   "cell_type": "code",
   "execution_count": 9,
   "id": "5765f3df-59a7-4e7d-801c-beab6aa487c3",
   "metadata": {},
   "outputs": [],
   "source": [
    "#complex :n+ij"
   ]
  },
  {
   "cell_type": "code",
   "execution_count": 13,
   "id": "c9887a0e-13d8-4348-999c-3b44daa9491f",
   "metadata": {},
   "outputs": [],
   "source": [
    "n= 3+4j"
   ]
  },
  {
   "cell_type": "code",
   "execution_count": 15,
   "id": "bfe6be76-877b-495b-a3db-1d47a158737a",
   "metadata": {},
   "outputs": [
    {
     "data": {
      "text/plain": [
       "complex"
      ]
     },
     "execution_count": 15,
     "metadata": {},
     "output_type": "execute_result"
    }
   ],
   "source": [
    "type(n)"
   ]
  },
  {
   "cell_type": "code",
   "execution_count": null,
   "id": "eab965fc-2eef-4043-aae4-7fe55aa41d5b",
   "metadata": {},
   "outputs": [],
   "source": [
    "# string is a collection of single('') , double(\"\") ,triple quote(''')"
   ]
  },
  {
   "cell_type": "code",
   "execution_count": 5,
   "id": "588a2943-1bdc-426b-92b3-4744aa488478",
   "metadata": {},
   "outputs": [],
   "source": [
    "string3= '''i am a crickter and i live in a town called mettur'''"
   ]
  },
  {
   "cell_type": "code",
   "execution_count": 6,
   "id": "21b57a89-ce26-4e1c-9fab-8336957d9d1c",
   "metadata": {},
   "outputs": [
    {
     "name": "stdout",
     "output_type": "stream",
     "text": [
      "i am a crickter and i live in a town called mettur\n"
     ]
    }
   ],
   "source": [
    "print(string3)"
   ]
  },
  {
   "cell_type": "code",
   "execution_count": null,
   "id": "d84315e2-8ba8-4f7a-9165-0412381d6b14",
   "metadata": {},
   "outputs": [],
   "source": []
  }
 ],
 "metadata": {
  "kernelspec": {
   "display_name": "Python 3 (ipykernel)",
   "language": "python",
   "name": "python3"
  },
  "language_info": {
   "codemirror_mode": {
    "name": "ipython",
    "version": 3
   },
   "file_extension": ".py",
   "mimetype": "text/x-python",
   "name": "python",
   "nbconvert_exporter": "python",
   "pygments_lexer": "ipython3",
   "version": "3.13.2"
  }
 },
 "nbformat": 4,
 "nbformat_minor": 5
}
