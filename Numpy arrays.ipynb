{
 "cells": [
  {
   "cell_type": "code",
   "execution_count": null,
   "id": "57789168-ada7-47b0-a430-bc29130a4a35",
   "metadata": {},
   "outputs": [],
   "source": [
    "!pip install numpy"
   ]
  },
  {
   "cell_type": "code",
   "execution_count": 12,
   "id": "d93c9a48-ed3d-4de4-9aab-d3653a667368",
   "metadata": {},
   "outputs": [
    {
     "name": "stdout",
     "output_type": "stream",
     "text": [
      "2.0\n",
      "2.5\n",
      "3.0\n"
     ]
    }
   ],
   "source": [
    "import numpy as np\n",
    "x=(4,5,6)\n",
    "for j in x:\n",
    "    print(j/2)"
   ]
  },
  {
   "cell_type": "code",
   "execution_count": 106,
   "id": "7acb6dd0-590a-4d64-8f88-18bd3678185e",
   "metadata": {},
   "outputs": [
    {
     "name": "stdout",
     "output_type": "stream",
     "text": [
      "[ 2  4  6  8 10]\n"
     ]
    },
    {
     "data": {
      "text/plain": [
       "array([ 6, 12, 18, 24, 30])"
      ]
     },
     "execution_count": 106,
     "metadata": {},
     "output_type": "execute_result"
    }
   ],
   "source": [
    "import numpy as np\n",
    "x= np.array([2,4,6,8,10])\n",
    "print(x)\n",
    "x/3\n",
    "x*3"
   ]
  },
  {
   "cell_type": "code",
   "execution_count": 39,
   "id": "69ff5e07-39ff-475f-b2f2-5166265d25c5",
   "metadata": {},
   "outputs": [
    {
     "data": {
      "text/plain": [
       "array([10, 16, 20, 18, 20, 24, 14], dtype=int32)"
      ]
     },
     "execution_count": 39,
     "metadata": {},
     "output_type": "execute_result"
    }
   ],
   "source": [
    "np.random.randint(9,28,7)"
   ]
  },
  {
   "cell_type": "code",
   "execution_count": 48,
   "id": "1f648acc-6ad6-4378-9780-63801fdb2e18",
   "metadata": {},
   "outputs": [
    {
     "data": {
      "text/plain": [
       "array([[10,  8,  7],\n",
       "       [11, 10, 11],\n",
       "       [ 6, 10, 11],\n",
       "       [10, 11,  9]], dtype=int32)"
      ]
     },
     "execution_count": 48,
     "metadata": {},
     "output_type": "execute_result"
    }
   ],
   "source": [
    "array=np.random.randint(6,12,(4,3))\n",
    "array"
   ]
  },
  {
   "cell_type": "code",
   "execution_count": 50,
   "id": "6fd26b6a-a4d4-479d-8389-71fcc928f979",
   "metadata": {},
   "outputs": [
    {
     "data": {
      "text/plain": [
       "38"
      ]
     },
     "execution_count": 50,
     "metadata": {},
     "output_type": "execute_result"
    }
   ],
   "source": [
    "np.random.randint(90)"
   ]
  },
  {
   "cell_type": "code",
   "execution_count": 53,
   "id": "fd46cda1-e39e-4574-ac01-a03954f3cda1",
   "metadata": {},
   "outputs": [
    {
     "data": {
      "text/plain": [
       "array([32, 27], dtype=int32)"
      ]
     },
     "execution_count": 53,
     "metadata": {},
     "output_type": "execute_result"
    }
   ],
   "source": [
    "np.random.randint(24,34,2)"
   ]
  },
  {
   "cell_type": "code",
   "execution_count": 102,
   "id": "50089272-fe7d-4f76-8aa9-857129126435",
   "metadata": {},
   "outputs": [
    {
     "data": {
      "text/plain": [
       "array([[23, 18, 10, 22],\n",
       "       [11, 17, 17, 14],\n",
       "       [24, 23, 12, 24],\n",
       "       [23, 12, 11, 20]], dtype=int32)"
      ]
     },
     "execution_count": 102,
     "metadata": {},
     "output_type": "execute_result"
    }
   ],
   "source": [
    "data= np.random.randint(10,25,(4,4))\n",
    "data"
   ]
  },
  {
   "cell_type": "code",
   "execution_count": 103,
   "id": "ef8928b4-1bfc-49ce-88ba-7f573231986b",
   "metadata": {},
   "outputs": [
    {
     "data": {
      "text/plain": [
       "array([[17, 17],\n",
       "       [23, 12],\n",
       "       [12, 11]], dtype=int32)"
      ]
     },
     "execution_count": 103,
     "metadata": {},
     "output_type": "execute_result"
    }
   ],
   "source": [
    "data[1:4 , 1:3]"
   ]
  },
  {
   "cell_type": "code",
   "execution_count": 143,
   "id": "2ee9314d-1920-44ab-87a9-0c5e9dee9696",
   "metadata": {},
   "outputs": [
    {
     "data": {
      "text/plain": [
       "array([[20, 18],\n",
       "       [13, 22],\n",
       "       [12, 23]], dtype=int32)"
      ]
     },
     "execution_count": 143,
     "metadata": {},
     "output_type": "execute_result"
    }
   ],
   "source": [
    "data[0:3,2:4]"
   ]
  },
  {
   "cell_type": "code",
   "execution_count": 138,
   "id": "6fe65f80-b340-4bf0-aa22-5e88e108cd18",
   "metadata": {},
   "outputs": [
    {
     "data": {
      "text/plain": [
       "np.int32(24)"
      ]
     },
     "execution_count": 138,
     "metadata": {},
     "output_type": "execute_result"
    }
   ],
   "source": [
    "data.max()"
   ]
  },
  {
   "cell_type": "code",
   "execution_count": 139,
   "id": "fd079926-6f9e-43be-b2d6-1890aa90fddc",
   "metadata": {},
   "outputs": [
    {
     "data": {
      "text/plain": [
       "np.int32(11)"
      ]
     },
     "execution_count": 139,
     "metadata": {},
     "output_type": "execute_result"
    }
   ],
   "source": [
    "data.min()"
   ]
  },
  {
   "cell_type": "code",
   "execution_count": 145,
   "id": "95cff5ea-9ba9-4ae4-8ab2-9e511c2caf7f",
   "metadata": {},
   "outputs": [
    {
     "data": {
      "text/plain": [
       "np.int64(269)"
      ]
     },
     "execution_count": 145,
     "metadata": {},
     "output_type": "execute_result"
    }
   ],
   "source": [
    "data.sum()"
   ]
  },
  {
   "cell_type": "code",
   "execution_count": 146,
   "id": "856dce97-d09d-46f6-8387-55f276a4447f",
   "metadata": {},
   "outputs": [
    {
     "data": {
      "text/plain": [
       "np.float64(16.8125)"
      ]
     },
     "execution_count": 146,
     "metadata": {},
     "output_type": "execute_result"
    }
   ],
   "source": [
    "data.mean()"
   ]
  },
  {
   "cell_type": "code",
   "execution_count": 74,
   "id": "fc6af6ea-b432-45f3-8cb3-fb02f96f3ff6",
   "metadata": {},
   "outputs": [
    {
     "name": "stdout",
     "output_type": "stream",
     "text": [
      "[4 2]\n"
     ]
    }
   ],
   "source": [
    "#1D array\n",
    "x=np.array([4,2])\n",
    "print(x)"
   ]
  },
  {
   "cell_type": "code",
   "execution_count": 82,
   "id": "cf11ccaf-cf5e-4361-9b72-45be7cb1c195",
   "metadata": {},
   "outputs": [
    {
     "name": "stdout",
     "output_type": "stream",
     "text": [
      "[[ 5  6  7]\n",
      " [10  8  9]]\n"
     ]
    }
   ],
   "source": [
    "#2D array\n",
    "x=np.array(([5,6,7],[10,8,9]))\n",
    "print(x)"
   ]
  },
  {
   "cell_type": "code",
   "execution_count": 131,
   "id": "1a2cf906-0af8-4e78-9027-0f12cf0b0b2d",
   "metadata": {},
   "outputs": [
    {
     "name": "stdout",
     "output_type": "stream",
     "text": [
      "(array([[1, 2, 3],\n",
      "       [4, 5, 6]]), [[7, 8, 9], [6, 8, 9]])\n",
      "<class 'tuple'>\n"
     ]
    }
   ],
   "source": [
    "#3d array\n",
    "x= np.array([[1,2,3],[4,5,6]]),  ([[7,8,9],[6,8,9]])\n",
    "print(x)\n",
    "print(type(x))"
   ]
  },
  {
   "cell_type": "code",
   "execution_count": 108,
   "id": "11f543b4-c55c-4598-9e93-badddb53af22",
   "metadata": {},
   "outputs": [
    {
     "data": {
      "text/plain": [
       "array([[2, 2, 2],\n",
       "       [2, 2, 2]])"
      ]
     },
     "execution_count": 108,
     "metadata": {},
     "output_type": "execute_result"
    }
   ],
   "source": [
    "np.full((2,3),2)"
   ]
  },
  {
   "cell_type": "code",
   "execution_count": 129,
   "id": "31d2680e-29d3-47cf-b02b-fa30114ef2c8",
   "metadata": {},
   "outputs": [
    {
     "name": "stdout",
     "output_type": "stream",
     "text": [
      "[[[1 2 3]\n",
      "  [4 5 6]]\n",
      "\n",
      " [[7 8 9]\n",
      "  [7 5 9]]]\n",
      "<class 'numpy.ndarray'>\n"
     ]
    },
    {
     "data": {
      "text/plain": [
       "3"
      ]
     },
     "execution_count": 129,
     "metadata": {},
     "output_type": "execute_result"
    }
   ],
   "source": [
    "x=np.array([[[1,2,3],[4,5,6]], [[7,8,9],[7,5,9]]])\n",
    "print(x)\n",
    "print(type(x))\n",
    "x.ndim"
   ]
  },
  {
   "cell_type": "code",
   "execution_count": 199,
   "id": "48b382a5-d1b4-4c28-992e-dc6e0d7ee44f",
   "metadata": {},
   "outputs": [
    {
     "data": {
      "text/plain": [
       "array([ 0,  7, 14, 21, 28, 35, 42, 49, 56, 63, 70, 77, 84, 91, 98])"
      ]
     },
     "execution_count": 199,
     "metadata": {},
     "output_type": "execute_result"
    }
   ],
   "source": [
    "np.arange(0,100,7)"
   ]
  },
  {
   "cell_type": "code",
   "execution_count": 134,
   "id": "9a23fdc8-2ab2-43bc-b78f-29a1560f324e",
   "metadata": {},
   "outputs": [
    {
     "data": {
      "text/plain": [
       "array([ 5., 10., 15., 20.])"
      ]
     },
     "execution_count": 134,
     "metadata": {},
     "output_type": "execute_result"
    }
   ],
   "source": [
    "np.linspace(5,20,4)"
   ]
  },
  {
   "cell_type": "code",
   "execution_count": null,
   "id": "ca471be4-50c0-4c72-b882-e5b8b6953372",
   "metadata": {},
   "outputs": [],
   "source": [
    "np.eye(9)   #refer to identical matrix"
   ]
  },
  {
   "cell_type": "code",
   "execution_count": 137,
   "id": "9f68ee44-5ad6-478d-b433-612d65fe46bb",
   "metadata": {},
   "outputs": [
    {
     "data": {
      "text/plain": [
       "array([[1., 0., 0., 0.],\n",
       "       [0., 1., 0., 0.],\n",
       "       [0., 0., 1., 0.],\n",
       "       [0., 0., 0., 1.]])"
      ]
     },
     "execution_count": 137,
     "metadata": {},
     "output_type": "execute_result"
    }
   ],
   "source": [
    "np.eye(4)"
   ]
  },
  {
   "cell_type": "code",
   "execution_count": 148,
   "id": "c783825e-6737-48e4-8d7b-40af3e776038",
   "metadata": {},
   "outputs": [
    {
     "data": {
      "text/plain": [
       "21"
      ]
     },
     "execution_count": 148,
     "metadata": {},
     "output_type": "execute_result"
    }
   ],
   "source": [
    "data=(5,7,9)\n",
    "sum(data)"
   ]
  },
  {
   "cell_type": "code",
   "execution_count": 150,
   "id": "de3b8398-b1de-4f09-9b4c-bdd3b77a23b7",
   "metadata": {},
   "outputs": [
    {
     "name": "stdout",
     "output_type": "stream",
     "text": [
      "[[3 4 5]\n",
      " [2 3 5]]\n",
      "(2, 3)\n"
     ]
    }
   ],
   "source": [
    "x=np.array([[3,4,5],[2,3,5]])\n",
    "print(x)\n",
    "print(x.shape)"
   ]
  },
  {
   "cell_type": "code",
   "execution_count": 183,
   "id": "585e7867-2f03-4ff9-b2b1-93186c62dbfc",
   "metadata": {},
   "outputs": [
    {
     "name": "stdout",
     "output_type": "stream",
     "text": [
      "original array:\n",
      " [[3 4 5]\n",
      " [2 3 5]\n",
      " [7 8 9]]\n",
      "[[3 4 5 2 3 5 7 8 9]]\n",
      "changed array:\n",
      " [[3 4 5 2 3 5 7 8 9]]\n"
     ]
    }
   ],
   "source": [
    "x=np.array([[3,4,5,],[2,3,5,],[7,8,9,]])\n",
    "print(\"original array:\\n\",x)\n",
    "x.shape=(1,9)\n",
    "print(x)\n",
    "print(\"changed array:\\n\",x)"
   ]
  },
  {
   "cell_type": "code",
   "execution_count": 206,
   "id": "0176e5c1-c562-42f7-959e-e405f3786dc0",
   "metadata": {},
   "outputs": [
    {
     "name": "stdout",
     "output_type": "stream",
     "text": [
      "[[[ 0  1  2]\n",
      "  [ 3  4  5]\n",
      "  [ 6  7  8]]\n",
      "\n",
      " [[ 9 10 11]\n",
      "  [12 13 14]\n",
      "  [15 16 17]]\n",
      "\n",
      " [[18 19 20]\n",
      "  [21 22 23]\n",
      "  [24 25 26]]]\n"
     ]
    },
    {
     "data": {
      "text/plain": [
       "3"
      ]
     },
     "execution_count": 206,
     "metadata": {},
     "output_type": "execute_result"
    }
   ],
   "source": [
    "x=np.arange(27)\n",
    "\n",
    "x.shape=[3,3,3]\n",
    "print(x)\n",
    "x.ndim\n",
    "\n",
    "\n"
   ]
  },
  {
   "cell_type": "code",
   "execution_count": 5,
   "id": "b5b24c85-53f7-46f6-94fd-59d974fdb5b6",
   "metadata": {},
   "outputs": [
    {
     "name": "stdout",
     "output_type": "stream",
     "text": [
      "(3, 3)\n",
      "9\n",
      "2\n",
      "int64\n"
     ]
    }
   ],
   "source": [
    "import numpy as np\n",
    "x= np.array ([[1,2,3],[4,5,6],[7,8,9]])\n",
    "print(x.shape)\n",
    "print(x.size)\n",
    "print(x.ndim)\n",
    "print(x.dtype)"
   ]
  },
  {
   "cell_type": "code",
   "execution_count": 15,
   "id": "1e0acc17-6cb4-4906-8a3f-bb0a741c9af4",
   "metadata": {},
   "outputs": [
    {
     "name": "stdout",
     "output_type": "stream",
     "text": [
      "[[18 32 33 19]\n",
      " [31  2 31 23]\n",
      " [33 16 18 21]\n",
      " [24 28 31 21]\n",
      " [10  9 32 17]]\n"
     ]
    }
   ],
   "source": [
    "x=np.random.randint(2,34,(5,4))\n",
    "print(x)"
   ]
  },
  {
   "cell_type": "code",
   "execution_count": 17,
   "id": "83804060-68c0-4424-b197-04de2ec15ba3",
   "metadata": {},
   "outputs": [
    {
     "data": {
      "text/plain": [
       "array([18, 32, 33, 19, 31,  2, 31, 23, 33, 16, 18, 21, 24, 28, 31, 21, 10,\n",
       "        9, 32, 17], dtype=int32)"
      ]
     },
     "execution_count": 17,
     "metadata": {},
     "output_type": "execute_result"
    }
   ],
   "source": [
    "x.ravel()"
   ]
  },
  {
   "cell_type": "code",
   "execution_count": 20,
   "id": "1b18934a-6d7b-4a09-a103-6fe0ba0b27bb",
   "metadata": {},
   "outputs": [
    {
     "data": {
      "text/plain": [
       "array([[18, 32, 33, 19, 31],\n",
       "       [ 2, 31, 23, 33, 16],\n",
       "       [18, 21, 24, 28, 31],\n",
       "       [21, 10,  9, 32, 17]], dtype=int32)"
      ]
     },
     "execution_count": 20,
     "metadata": {},
     "output_type": "execute_result"
    }
   ],
   "source": [
    "x.reshape(4,5)"
   ]
  },
  {
   "cell_type": "code",
   "execution_count": 110,
   "id": "39797d9f-b80d-4880-b6f7-dbdd83abae0c",
   "metadata": {},
   "outputs": [
    {
     "name": "stdout",
     "output_type": "stream",
     "text": [
      "[[2 3]\n",
      " [4 5]]\n"
     ]
    }
   ],
   "source": [
    "x1=np.array([[2,3],[4,5]])\n",
    "print(x1)"
   ]
  },
  {
   "cell_type": "code",
   "execution_count": 108,
   "id": "0f3c7bc8-d3d9-488a-bc5a-24a21222d5b1",
   "metadata": {},
   "outputs": [
    {
     "name": "stdout",
     "output_type": "stream",
     "text": [
      "[[4 5]\n",
      " [5 6]]\n"
     ]
    }
   ],
   "source": [
    "x2=np.array([[4,5],[5,6]])\n",
    "print(x2)"
   ]
  },
  {
   "cell_type": "code",
   "execution_count": 111,
   "id": "7d8850e5-fc8f-47c7-86e4-719a04c3e271",
   "metadata": {},
   "outputs": [
    {
     "data": {
      "text/plain": [
       "array([[2, 3],\n",
       "       [4, 5],\n",
       "       [4, 5],\n",
       "       [5, 6]])"
      ]
     },
     "execution_count": 111,
     "metadata": {},
     "output_type": "execute_result"
    }
   ],
   "source": [
    "np.vstack([x1,x2])"
   ]
  },
  {
   "cell_type": "code",
   "execution_count": 112,
   "id": "7a18e1b9-0f12-423b-b9c4-af6a3ce3aecf",
   "metadata": {},
   "outputs": [
    {
     "data": {
      "text/plain": [
       "array([[2, 3, 4, 5],\n",
       "       [4, 5, 5, 6]])"
      ]
     },
     "execution_count": 112,
     "metadata": {},
     "output_type": "execute_result"
    }
   ],
   "source": [
    "np.hstack([x1,x2])"
   ]
  },
  {
   "cell_type": "code",
   "execution_count": null,
   "id": "b7fa5745-fd3e-49b1-b27d-b6a2b9bb9d03",
   "metadata": {},
   "outputs": [],
   "source": [
    "np.concatenate([x1,x2],axis=0)"
   ]
  },
  {
   "cell_type": "code",
   "execution_count": 35,
   "id": "40128063-6ce8-4227-8195-1414ef4786a7",
   "metadata": {},
   "outputs": [
    {
     "data": {
      "text/plain": [
       "array([[2, 3, 4, 5],\n",
       "       [4, 5, 5, 6]])"
      ]
     },
     "execution_count": 35,
     "metadata": {},
     "output_type": "execute_result"
    }
   ],
   "source": [
    "np.concatenate([x1,x2],axis=1)"
   ]
  },
  {
   "cell_type": "code",
   "execution_count": 41,
   "id": "c901392a-0f57-479a-9284-e270071e208e",
   "metadata": {},
   "outputs": [
    {
     "name": "stdout",
     "output_type": "stream",
     "text": [
      "[ 0.  1.  2.  3.  4.  5.  6.  7.  8.  9. 10. 11. 12. 13. 14. 15. 16. 17.\n",
      " 18. 19. 20. 21. 22.]\n",
      "float64\n"
     ]
    }
   ],
   "source": [
    "x=np.arange(23,dtype='float')\n",
    "print(x)\n",
    "print(x.dtype)"
   ]
  },
  {
   "cell_type": "code",
   "execution_count": 4,
   "id": "65a206a9-1ea4-43e8-9240-83356716e2d9",
   "metadata": {},
   "outputs": [
    {
     "name": "stdout",
     "output_type": "stream",
     "text": [
      "[-1  2]\n"
     ]
    }
   ],
   "source": [
    "import numpy as np\n",
    "x=np.array([1,6])\n",
    "y=np.array([2,4])\n",
    "sub=x-y\n",
    "print(sub)"
   ]
  },
  {
   "cell_type": "code",
   "execution_count": 5,
   "id": "be7b1118-7d47-4451-98b8-1182e3f044a6",
   "metadata": {},
   "outputs": [
    {
     "data": {
      "text/plain": [
       "array([-1,  2])"
      ]
     },
     "execution_count": 5,
     "metadata": {},
     "output_type": "execute_result"
    }
   ],
   "source": [
    "np.subtract(x,y)"
   ]
  },
  {
   "cell_type": "code",
   "execution_count": 16,
   "id": "5ba2c332-ae09-482e-922c-69a0a437a8c4",
   "metadata": {},
   "outputs": [
    {
     "name": "stdout",
     "output_type": "stream",
     "text": [
      "broadcasting:\n",
      " [[ 6  8]\n",
      " [ 9 11]\n",
      " [11 13]]\n"
     ]
    }
   ],
   "source": [
    "#broadcasting\n",
    "x=np.array([[1,2],[4,5],[6,7]])\n",
    "y=np.array([[5,6]])\n",
    "addition=x+y\n",
    "print(\"broadcasting:\\n\",addition)"
   ]
  },
  {
   "cell_type": "code",
   "execution_count": 18,
   "id": "23193f42-f600-42f6-97ba-ec780041e813",
   "metadata": {},
   "outputs": [
    {
     "name": "stdout",
     "output_type": "stream",
     "text": [
      "subtaction:\n",
      " [[-4 -4]\n",
      " [ 0  0]\n",
      " [ 0  0]]\n"
     ]
    }
   ],
   "source": [
    "array1=np.array([[1,2],[4,5],[6,7]])\n",
    "array2=np.array([[5,6],[4,5],[6,7]])\n",
    "array=array1-array2\n",
    "print(\"subtaction:\\n\",array)"
   ]
  },
  {
   "cell_type": "code",
   "execution_count": 21,
   "id": "09746ef4-d6ff-431b-bafc-73bf578899fd",
   "metadata": {},
   "outputs": [
    {
     "name": "stdout",
     "output_type": "stream",
     "text": [
      "mutiplication:\n",
      " [[ 5 12]\n",
      " [16 25]\n",
      " [36 49]]\n"
     ]
    }
   ],
   "source": [
    "\n",
    "array1=np.array([[1,2],[4,5],[6,7]])\n",
    "array2=np.array([[5,6],[4,5],[6,7]])\n",
    "array=array1*array2\n",
    "print(\"mutiplication:\\n\",array)"
   ]
  },
  {
   "cell_type": "code",
   "execution_count": 19,
   "id": "48152856-61a6-48cb-adf6-e2d17ccc41ca",
   "metadata": {},
   "outputs": [
    {
     "data": {
      "text/plain": [
       "array([[[21, 26, 24],\n",
       "        [63, 77, 72]]])"
      ]
     },
     "execution_count": 19,
     "metadata": {},
     "output_type": "execute_result"
    }
   ],
   "source": [
    "import numpy as np\n",
    "x=np.array([[1,2,],\n",
    "             [4,5,]]),  \n",
    "y=np.array([[7,8,8],\n",
    "            [7,9,8]])\n",
    "np.dot(x,y)\n"
   ]
  },
  {
   "cell_type": "code",
   "execution_count": 32,
   "id": "cf7489c2-572c-4111-8b79-e22c8eb84f3e",
   "metadata": {},
   "outputs": [
    {
     "name": "stdout",
     "output_type": "stream",
     "text": [
      "[0. 1. 2. 3. 4. 5. 6. 7. 8. 9.]\n"
     ]
    }
   ],
   "source": [
    "x=np.arange(10,dtype='float')\n",
    "print(x)"
   ]
  },
  {
   "cell_type": "code",
   "execution_count": 47,
   "id": "9a23dbfe-577d-4dd1-93d7-4104281ae8f7",
   "metadata": {},
   "outputs": [
    {
     "name": "stdout",
     "output_type": "stream",
     "text": [
      "original array:\n",
      " [10 20 30]\n",
      "values to append:\n",
      " [ 10  20  30  40  50  60  70  80  90 100]\n"
     ]
    }
   ],
   "source": [
    "original_array =np.array([10,20,30])\n",
    "values_to_append=np.array([40,50,60,70,80,90,100])\n",
    "new_array=np.append( original_array, values_to_append)\n",
    "print(\"original array:\\n\",original_array)\n",
    "print(\"values to append:\\n\",new_array)"
   ]
  },
  {
   "cell_type": "code",
   "execution_count": 100,
   "id": "72852d1d-a9a6-4e22-af21-a155f78eb7bb",
   "metadata": {},
   "outputs": [
    {
     "name": "stdout",
     "output_type": "stream",
     "text": [
      "[[ 2  3  4]\n",
      " [ 5  6  7]\n",
      " [ 8  9 10]]\n"
     ]
    }
   ],
   "source": [
    "x=np.arange(2,11).reshape(3,3)\n",
    "print(x)"
   ]
  },
  {
   "cell_type": "code",
   "execution_count": 113,
   "id": "fe35d2e0-9885-49ad-8ff9-83bb7bd4d2fb",
   "metadata": {},
   "outputs": [
    {
     "name": "stdout",
     "output_type": "stream",
     "text": [
      "[[10 20 30]\n",
      " [40 50 60]\n",
      " [70 80 90]]\n"
     ]
    }
   ],
   "source": [
    "x=np.arange(10,100,10).reshape(3,3)\n",
    "print(x)"
   ]
  },
  {
   "cell_type": "code",
   "execution_count": 99,
   "id": "556fa41f-09ed-47ab-bea7-ff3bd659e184",
   "metadata": {},
   "outputs": [
    {
     "name": "stdout",
     "output_type": "stream",
     "text": [
      "first row of the array:\n",
      "[[10 20 30]]\n"
     ]
    }
   ],
   "source": [
    "first_row=x[0:1]\n",
    "print(\"first row of the array:\")\n",
    "print(first_row)"
   ]
  },
  {
   "cell_type": "code",
   "execution_count": 115,
   "id": "07ef6581-9c44-4cc9-9cf5-f31ab173264b",
   "metadata": {},
   "outputs": [
    {
     "name": "stdout",
     "output_type": "stream",
     "text": [
      "last element of the array:\n",
      "90\n"
     ]
    }
   ],
   "source": [
    "last_element=x[2,2]\n",
    "print(\"last element of the array:\")\n",
    "print(last_element)"
   ]
  },
  {
   "cell_type": "code",
   "execution_count": null,
   "id": "3ff082af-e0f4-4d08-99fa-c410a4cbc7f5",
   "metadata": {},
   "outputs": [],
   "source": []
  }
 ],
 "metadata": {
  "kernelspec": {
   "display_name": "Python 3 (ipykernel)",
   "language": "python",
   "name": "python3"
  },
  "language_info": {
   "codemirror_mode": {
    "name": "ipython",
    "version": 3
   },
   "file_extension": ".py",
   "mimetype": "text/x-python",
   "name": "python",
   "nbconvert_exporter": "python",
   "pygments_lexer": "ipython3",
   "version": "3.13.2"
  }
 },
 "nbformat": 4,
 "nbformat_minor": 5
}
