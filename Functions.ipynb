{
 "cells": [
  {
   "cell_type": "code",
   "execution_count": 13,
   "id": "020de4f1-8214-40de-b984-3f247ed3abac",
   "metadata": {},
   "outputs": [],
   "source": [
    "                  #SPLIT FUNCTION"
   ]
  },
  {
   "cell_type": "code",
   "execution_count": 14,
   "id": "5a21ffc1-7437-4300-a2ee-1507ca154ccc",
   "metadata": {},
   "outputs": [],
   "source": [
    "B = \"data science engineering\""
   ]
  },
  {
   "cell_type": "code",
   "execution_count": 15,
   "id": "1bcdc7b0-0169-4b37-a3ef-68763b857a67",
   "metadata": {},
   "outputs": [
    {
     "data": {
      "text/plain": [
       "['data', 'science', 'engineering']"
      ]
     },
     "execution_count": 15,
     "metadata": {},
     "output_type": "execute_result"
    }
   ],
   "source": [
    "B.split()"
   ]
  },
  {
   "cell_type": "code",
   "execution_count": null,
   "id": "2a7ec43e-b494-4ee6-9fcf-159531d286d6",
   "metadata": {},
   "outputs": [],
   "source": [
    "B.split #devides based on space"
   ]
  },
  {
   "cell_type": "code",
   "execution_count": 19,
   "id": "063f797e-820b-49cb-be23-81411873dabe",
   "metadata": {},
   "outputs": [],
   "source": [
    "b=\"8760%135886\""
   ]
  },
  {
   "cell_type": "code",
   "execution_count": 20,
   "id": "30c2b4e6-1e5c-4a43-bd18-55aabf857e46",
   "metadata": {},
   "outputs": [
    {
     "data": {
      "text/plain": [
       "['8760%135886']"
      ]
     },
     "execution_count": 20,
     "metadata": {},
     "output_type": "execute_result"
    }
   ],
   "source": [
    "b.split()"
   ]
  },
  {
   "cell_type": "code",
   "execution_count": 22,
   "id": "5d161491-4a62-4505-861c-6599bbc7fee3",
   "metadata": {},
   "outputs": [
    {
     "data": {
      "text/plain": [
       "['8760', '135886']"
      ]
     },
     "execution_count": 22,
     "metadata": {},
     "output_type": "execute_result"
    }
   ],
   "source": [
    "b.split(\"%\")"
   ]
  },
  {
   "cell_type": "code",
   "execution_count": 23,
   "id": "17562522-3210-463a-97d9-c74e269d9f71",
   "metadata": {},
   "outputs": [
    {
     "data": {
      "text/plain": [
       "['', '760%135', '', '6']"
      ]
     },
     "execution_count": 23,
     "metadata": {},
     "output_type": "execute_result"
    }
   ],
   "source": [
    "b.split(\"8\")"
   ]
  },
  {
   "cell_type": "code",
   "execution_count": 1,
   "id": "a74ae140-925f-4187-b138-06d3b4fe7275",
   "metadata": {},
   "outputs": [],
   "source": [
    "c=\"   data analytics  \""
   ]
  },
  {
   "cell_type": "code",
   "execution_count": 6,
   "id": "c53e60a8-18d5-4e6e-9946-576209c6678c",
   "metadata": {},
   "outputs": [
    {
     "name": "stdout",
     "output_type": "stream",
     "text": [
      "   data analytics  \n"
     ]
    }
   ],
   "source": [
    "print(c)"
   ]
  },
  {
   "cell_type": "code",
   "execution_count": 2,
   "id": "729ead73-ae36-4a48-8bcd-b240dfd3917e",
   "metadata": {},
   "outputs": [
    {
     "data": {
      "text/plain": [
       "['data', 'analytics']"
      ]
     },
     "execution_count": 2,
     "metadata": {},
     "output_type": "execute_result"
    }
   ],
   "source": [
    "c.split()"
   ]
  },
  {
   "cell_type": "code",
   "execution_count": 12,
   "id": "cd26d399-7d1b-4b14-8a59-9e5547b93f3a",
   "metadata": {},
   "outputs": [],
   "source": [
    "                   #########  STRIP FUNCTION"
   ]
  },
  {
   "cell_type": "code",
   "execution_count": 3,
   "id": "317883e5-b297-419d-8d60-901bd43d1790",
   "metadata": {},
   "outputs": [
    {
     "data": {
      "text/plain": [
       "'data analytics'"
      ]
     },
     "execution_count": 3,
     "metadata": {},
     "output_type": "execute_result"
    }
   ],
   "source": [
    "c.strip()"
   ]
  },
  {
   "cell_type": "code",
   "execution_count": 8,
   "id": "9163b6ea-64d9-4929-8122-25b7c1fecffa",
   "metadata": {},
   "outputs": [
    {
     "data": {
      "text/plain": [
       "'data analytics  '"
      ]
     },
     "execution_count": 8,
     "metadata": {},
     "output_type": "execute_result"
    }
   ],
   "source": [
    "c.lstrip()"
   ]
  },
  {
   "cell_type": "code",
   "execution_count": 9,
   "id": "864422a5-c013-4c8f-bcd0-967805813d9a",
   "metadata": {},
   "outputs": [
    {
     "data": {
      "text/plain": [
       "'   data analytics'"
      ]
     },
     "execution_count": 9,
     "metadata": {},
     "output_type": "execute_result"
    }
   ],
   "source": [
    "c.rstrip()"
   ]
  },
  {
   "cell_type": "code",
   "execution_count": 11,
   "id": "4d87cfaf-14a0-4d63-8fe1-1cb9aa5b95cd",
   "metadata": {},
   "outputs": [],
   "source": [
    "                   ##### JUST FUNCTION"
   ]
  },
  {
   "cell_type": "code",
   "execution_count": 22,
   "id": "4778959f-4cb9-4064-a4cb-b21316a72b7d",
   "metadata": {},
   "outputs": [
    {
     "name": "stdout",
     "output_type": "stream",
     "text": [
      "$$kishore$$$ kishore$$$$$$ $$$$$$$kishore\n"
     ]
    }
   ],
   "source": [
    "b=\"kishore\"\n",
    "print(b.center(12,\"$\") ,\n",
    "b.ljust(13,\"$\"),\n",
    "b.rjust(14,\"$\"))"
   ]
  },
  {
   "cell_type": "code",
   "execution_count": null,
   "id": "a1adbd1d-b1e4-4c76-afe4-c3e83a3d3b3d",
   "metadata": {},
   "outputs": [],
   "source": [
    "                 ###index function"
   ]
  },
  {
   "cell_type": "code",
   "execution_count": 1,
   "id": "06f8cce0-6637-4373-b656-96a567a600b7",
   "metadata": {},
   "outputs": [
    {
     "data": {
      "text/plain": [
       "0"
      ]
     },
     "execution_count": 1,
     "metadata": {},
     "output_type": "execute_result"
    }
   ],
   "source": [
    "a='data'\n",
    "a.index(\"d\")"
   ]
  },
  {
   "cell_type": "code",
   "execution_count": 3,
   "id": "43ee1e96-5b47-46a7-8a54-aeac0f9cbce9",
   "metadata": {},
   "outputs": [],
   "source": [
    "               ###JOIN FUNCTION"
   ]
  },
  {
   "cell_type": "code",
   "execution_count": 10,
   "id": "fa4ac06d-0172-433b-80e9-35a90724d9e0",
   "metadata": {},
   "outputs": [
    {
     "data": {
      "text/plain": [
       "'kCRICKETiCRICKETsCRICKEThCRICKEToCRICKETrCRICKETe'"
      ]
     },
     "execution_count": 10,
     "metadata": {},
     "output_type": "execute_result"
    }
   ],
   "source": [
    "'CRICKET'.join('kishore')"
   ]
  },
  {
   "cell_type": "code",
   "execution_count": null,
   "id": "8a0ed1fe-1b24-4ab1-a8ea-3ac88ec18e77",
   "metadata": {},
   "outputs": [],
   "source": []
  }
 ],
 "metadata": {
  "kernelspec": {
   "display_name": "Python 3 (ipykernel)",
   "language": "python",
   "name": "python3"
  },
  "language_info": {
   "codemirror_mode": {
    "name": "ipython",
    "version": 3
   },
   "file_extension": ".py",
   "mimetype": "text/x-python",
   "name": "python",
   "nbconvert_exporter": "python",
   "pygments_lexer": "ipython3",
   "version": "3.13.2"
  }
 },
 "nbformat": 4,
 "nbformat_minor": 5
}
