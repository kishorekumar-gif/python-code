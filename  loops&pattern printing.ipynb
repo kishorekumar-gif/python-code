{
 "cells": [
  {
   "cell_type": "code",
   "execution_count": null,
   "id": "b26f18ca-6c91-4706-bde2-34c682a082d6",
   "metadata": {},
   "outputs": [],
   "source": [
    "#while loop"
   ]
  },
  {
   "cell_type": "code",
   "execution_count": null,
   "id": "8d105c38-058a-497c-97e2-db5110bdd415",
   "metadata": {},
   "outputs": [],
   "source": [
    "x=30\n",
    "counter=5\n",
    "while x>5:\n",
    "      print(\"calculation\",counter,x)\n",
    "      counter=counter+1\n",
    "      x=x-1"
   ]
  },
  {
   "cell_type": "code",
   "execution_count": 15,
   "id": "b44e698d-a903-4e46-8ef5-df0d5125433e",
   "metadata": {},
   "outputs": [
    {
     "name": "stdout",
     "output_type": "stream",
     "text": [
      "*\n",
      "**\n",
      "***\n",
      "****\n",
      "*****\n",
      "******\n",
      "*******\n",
      "********\n",
      "*********\n"
     ]
    }
   ],
   "source": [
    "x=1\n",
    "while x<10:\n",
    "  print(x*\"*\")\n",
    "  x+=1"
   ]
  },
  {
   "cell_type": "code",
   "execution_count": 2,
   "id": "0c62dd90-97e0-4d9e-9b9a-43467a2eaac9",
   "metadata": {},
   "outputs": [
    {
     "name": "stdout",
     "output_type": "stream",
     "text": [
      "    *\n",
      "   **\n",
      "  ***\n",
      " ****\n",
      "*****\n"
     ]
    }
   ],
   "source": [
    "x=1\n",
    "while x<6:\n",
    "    print((5-x)*\" \"+x*\"*\")\n",
    "    x+=1"
   ]
  },
  {
   "cell_type": "code",
   "execution_count": 17,
   "id": "54092186-3e9c-49a7-b6d5-bcf6d6c0c201",
   "metadata": {},
   "outputs": [
    {
     "name": "stdout",
     "output_type": "stream",
     "text": [
      "1 is even number\n",
      "2 is odd number\n",
      "3 is even number\n",
      "4 is odd number\n",
      "5 is even number\n",
      "6 is odd number\n",
      "7 is even number\n",
      "8 is odd number\n",
      "9 is even number\n"
     ]
    }
   ],
   "source": [
    "x=1\n",
    "while x<10:\n",
    "    if(x%2!=0):\n",
    "        print(x ,\"is even number\")\n",
    "    else:\n",
    "        print(x ,\"is odd number\")\n",
    "    x+=1"
   ]
  },
  {
   "cell_type": "code",
   "execution_count": null,
   "id": "d843b6c3-a637-4db6-b212-62efc0877ed4",
   "metadata": {},
   "outputs": [],
   "source": [
    "#nested for loops\n",
    "for i in range (1,6):\n",
    "    for j in range (i):\n",
    "      print(i)\n",
    "    "
   ]
  },
  {
   "cell_type": "code",
   "execution_count": null,
   "id": "2cd1e503-6266-4da2-b466-73bc147bbcfc",
   "metadata": {},
   "outputs": [],
   "source": [
    "for i in range (1,7):\n",
    " for j in range(3,i+1):\n",
    "    print(i)"
   ]
  },
  {
   "cell_type": "code",
   "execution_count": 49,
   "id": "6b895671-5dd2-45e2-b73a-ac302a44244b",
   "metadata": {},
   "outputs": [
    {
     "name": "stdout",
     "output_type": "stream",
     "text": [
      "1 \n",
      "2 2 \n",
      "3 3 3 \n",
      "4 4 4 4 \n",
      "5 5 5 5 5 \n"
     ]
    }
   ],
   "source": [
    "for i in range(1,6):\n",
    " for j in range(i):\n",
    "    print(i,end=\" \")\n",
    " print()\n",
    " "
   ]
  },
  {
   "cell_type": "code",
   "execution_count": 55,
   "id": "856fab7c-b8a5-444a-94f3-b403fccc3d3b",
   "metadata": {},
   "outputs": [
    {
     "name": "stdout",
     "output_type": "stream",
     "text": [
      "1 1 \n",
      "2 2 2 \n",
      "3 3 3 3 \n",
      "4 4 4 4 4 \n",
      "5 5 5 5 5 5 \n",
      "6 6 6 6 6 6 6 \n"
     ]
    }
   ],
   "source": [
    "#pattern printing\n",
    "for i in range(1,7):\n",
    " for j in range(i+1):\n",
    "    print(i,end=' ')\n",
    " print()"
   ]
  },
  {
   "cell_type": "code",
   "execution_count": null,
   "id": "2264afe0-f22f-4634-82e7-770176ae8323",
   "metadata": {},
   "outputs": [],
   "source": []
  },
  {
   "cell_type": "code",
   "execution_count": null,
   "id": "3c26781d-5560-4663-bac9-1d067d95d01e",
   "metadata": {},
   "outputs": [],
   "source": []
  },
  {
   "cell_type": "code",
   "execution_count": null,
   "id": "8ea9d80f-c122-4f73-9621-c36959fce53c",
   "metadata": {},
   "outputs": [],
   "source": []
  }
 ],
 "metadata": {
  "kernelspec": {
   "display_name": "Python 3 (ipykernel)",
   "language": "python",
   "name": "python3"
  },
  "language_info": {
   "codemirror_mode": {
    "name": "ipython",
    "version": 3
   },
   "file_extension": ".py",
   "mimetype": "text/x-python",
   "name": "python",
   "nbconvert_exporter": "python",
   "pygments_lexer": "ipython3",
   "version": "3.13.2"
  }
 },
 "nbformat": 4,
 "nbformat_minor": 5
}
