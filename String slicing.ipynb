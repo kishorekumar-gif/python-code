{
 "cells": [
  {
   "cell_type": "code",
   "execution_count": null,
   "id": "2056fb76-3a83-4429-aedd-f340fbfcd4af",
   "metadata": {},
   "outputs": [],
   "source": [
    "               ###STRING SLICING"
   ]
  },
  {
   "cell_type": "code",
   "execution_count": 1,
   "id": "756bb793-1f88-4577-8333-3b78d4ed0a71",
   "metadata": {},
   "outputs": [],
   "source": [
    "D=\"mumbai indians\""
   ]
  },
  {
   "cell_type": "code",
   "execution_count": 14,
   "id": "2a8f013b-9ac7-4b6b-b85b-d050b36eaa68",
   "metadata": {},
   "outputs": [
    {
     "data": {
      "text/plain": [
       "'MUND'"
      ]
     },
     "execution_count": 14,
     "metadata": {},
     "output_type": "execute_result"
    }
   ],
   "source": [
    "D[0:2].upper()+ D[8:10].upper()"
   ]
  },
  {
   "cell_type": "code",
   "execution_count": 16,
   "id": "e1606cf9-7d1d-4d21-88ca-a32c34092b81",
   "metadata": {},
   "outputs": [],
   "source": [
    "x=\"machine learning\""
   ]
  },
  {
   "cell_type": "code",
   "execution_count": 30,
   "id": "be701472-88df-4e8b-b6b8-9356f2b6f3dd",
   "metadata": {},
   "outputs": [
    {
     "data": {
      "text/plain": [
       "'MANE ear'"
      ]
     },
     "execution_count": 30,
     "metadata": {},
     "output_type": "execute_result"
    }
   ],
   "source": [
    "x[0:2].upper()+x[5:7].upper()+\" \"+x[9:12].lower()"
   ]
  },
  {
   "cell_type": "code",
   "execution_count": 25,
   "id": "b48e8501-2e65-418d-ad4f-f04520a01c3b",
   "metadata": {},
   "outputs": [],
   "source": [
    "x=['data',9,'2024.23',(8+7j),[10,20,30]]"
   ]
  },
  {
   "cell_type": "code",
   "execution_count": 3,
   "id": "dab39503-e847-48ab-b9e2-f3e9097d4090",
   "metadata": {},
   "outputs": [
    {
     "name": "stdout",
     "output_type": "stream",
     "text": [
      "['data', 9, 2024.23, (8+7j), [10, 20, 30]]\n"
     ]
    }
   ],
   "source": [
    "print(x)"
   ]
  },
  {
   "cell_type": "code",
   "execution_count": 18,
   "id": "bcda8d3f-e0a3-4cf1-bc75-cea420ae0296",
   "metadata": {},
   "outputs": [
    {
     "data": {
      "text/plain": [
       "[10, 20]"
      ]
     },
     "execution_count": 18,
     "metadata": {},
     "output_type": "execute_result"
    }
   ],
   "source": [
    "x[4][0:2]"
   ]
  },
  {
   "cell_type": "code",
   "execution_count": 19,
   "id": "95ba602f-4dad-4d58-8f84-7713748b7af4",
   "metadata": {},
   "outputs": [
    {
     "data": {
      "text/plain": [
       "[10, 20, 30]"
      ]
     },
     "execution_count": 19,
     "metadata": {},
     "output_type": "execute_result"
    }
   ],
   "source": [
    "x[-1][-3:]"
   ]
  },
  {
   "cell_type": "code",
   "execution_count": 34,
   "id": "5e46a68c-e3ca-42f3-858c-326488746718",
   "metadata": {},
   "outputs": [
    {
     "data": {
      "text/plain": [
       "'2024'"
      ]
     },
     "execution_count": 34,
     "metadata": {},
     "output_type": "execute_result"
    }
   ],
   "source": [
    "x[2][0:4]\n",
    "x[-3][-7:-3]"
   ]
  },
  {
   "cell_type": "code",
   "execution_count": 48,
   "id": "0770a2ef-0dd1-4e38-be2f-3c754b9d2ed4",
   "metadata": {},
   "outputs": [],
   "source": [
    "topic=[\n",
    "    ['Math',['Algebra','calculus','Geometry']],\n",
    "    ['science',['physics','chemistry','biology']],\n",
    "    ['technology',['programming','networking','AI']],\n",
    "    ['History',['Ancient','Medivel','Modern']],\n",
    "    ['Art',['painting','sculpture','Architecture']]\n",
    "]"
   ]
  },
  {
   "cell_type": "code",
   "execution_count": 41,
   "id": "2b908e91-70bf-453f-a698-7e20d9e3a726",
   "metadata": {},
   "outputs": [
    {
     "data": {
      "text/plain": [
       "'Modern Architecture'"
      ]
     },
     "execution_count": 41,
     "metadata": {},
     "output_type": "execute_result"
    }
   ],
   "source": [
    "topic[3][1][2]+' '+topic[4][1][2]"
   ]
  },
  {
   "cell_type": "code",
   "execution_count": 50,
   "id": "645d968a-7329-4ce9-8750-d4b11929a166",
   "metadata": {},
   "outputs": [
    {
     "data": {
      "text/plain": [
       "'GEO BIO CHEM'"
      ]
     },
     "execution_count": 50,
     "metadata": {},
     "output_type": "execute_result"
    }
   ],
   "source": [
    "topic[0][1][2][0:3].upper()+' '+topic[1][1][2][0:3].upper()+' '+topic[1][1][1][0:4].upper()"
   ]
  },
  {
   "cell_type": "code",
   "execution_count": 2,
   "id": "a0f8e492-d2a1-4c69-a300-25b15b448c9b",
   "metadata": {},
   "outputs": [],
   "source": [
    "#DATA TYPES IN PYTHON\n",
    "#1.IMMUTABLE DATA TYPE\n",
    "#2 MUTABLE DATA TYPE\n",
    "\n",
    "#Immmutable data type\n",
    "#1 numeric data\n",
    "#2 string\n",
    "#3 tuple()\n",
    "\n",
    "#mutable data type\n",
    "#1 list[]\n",
    "#2 dictionary{}\n",
    "\n",
    "#numeric data type\n",
    "#1 integer #2float #3 complex"
   ]
  },
  {
   "cell_type": "code",
   "execution_count": 51,
   "id": "413e10dc-f982-49d3-b355-359b97f9d2cc",
   "metadata": {},
   "outputs": [],
   "source": [
    "#tuple:immutable data type enclosed by()"
   ]
  },
  {
   "cell_type": "code",
   "execution_count": 7,
   "id": "74f920ce-7a8e-472e-9ee8-b68c5c356e25",
   "metadata": {},
   "outputs": [],
   "source": [
    "weekdays={'mon','tue','wed','thurs','fri','sat','sun'}"
   ]
  },
  {
   "cell_type": "code",
   "execution_count": 9,
   "id": "31b284a3-8f7e-43bd-b7dd-c0137d28d346",
   "metadata": {},
   "outputs": [
    {
     "data": {
      "text/plain": [
       "set"
      ]
     },
     "execution_count": 9,
     "metadata": {},
     "output_type": "execute_result"
    }
   ],
   "source": [
    "type(weekdays)"
   ]
  },
  {
   "cell_type": "code",
   "execution_count": 13,
   "id": "b92a3590-67b9-45b7-a0ab-b231739ad384",
   "metadata": {},
   "outputs": [],
   "source": [
    "#list:allows us to make changes[]\n",
    "#list can different data types"
   ]
  },
  {
   "cell_type": "code",
   "execution_count": 18,
   "id": "ad5f3549-3d69-4c5e-b734-6fbeb7820e51",
   "metadata": {},
   "outputs": [],
   "source": [
    "salaries=[23,56,78]"
   ]
  },
  {
   "cell_type": "code",
   "execution_count": 19,
   "id": "6e184af3-00da-4a4a-8040-2bec54465bf1",
   "metadata": {},
   "outputs": [],
   "source": [
    "salaries[0]=25"
   ]
  },
  {
   "cell_type": "code",
   "execution_count": 20,
   "id": "a1d79f39-ce3a-476a-a264-4063d063b5db",
   "metadata": {},
   "outputs": [
    {
     "data": {
      "text/plain": [
       "[25, 56, 78]"
      ]
     },
     "execution_count": 20,
     "metadata": {},
     "output_type": "execute_result"
    }
   ],
   "source": [
    "salaries"
   ]
  },
  {
   "cell_type": "code",
   "execution_count": 21,
   "id": "ad827a7b-e904-4340-b82e-e9bf66c65cd1",
   "metadata": {},
   "outputs": [],
   "source": [
    "salaries[2]+=86"
   ]
  },
  {
   "cell_type": "code",
   "execution_count": 22,
   "id": "80559033-a595-4ab2-93d1-b0cdf993f7fe",
   "metadata": {},
   "outputs": [
    {
     "data": {
      "text/plain": [
       "[25, 56, 164]"
      ]
     },
     "execution_count": 22,
     "metadata": {},
     "output_type": "execute_result"
    }
   ],
   "source": [
    "salaries"
   ]
  },
  {
   "cell_type": "code",
   "execution_count": 27,
   "id": "761c7ddb-8f3b-467b-8e23-e6f61b45e8ee",
   "metadata": {},
   "outputs": [
    {
     "data": {
      "text/plain": [
       "[25, 56, 164, 34, 34]"
      ]
     },
     "execution_count": 27,
     "metadata": {},
     "output_type": "execute_result"
    }
   ],
   "source": [
    "salaries.append(34)\n",
    "salaries"
   ]
  },
  {
   "cell_type": "code",
   "execution_count": 50,
   "id": "299ba8b9-1360-41eb-85f5-aaa04aeac106",
   "metadata": {},
   "outputs": [],
   "source": [
    "#dictionary :allows to create key value pairs{}\n",
    "#the values in dictionary items can be of any data type:\n",
    "\n",
    "#example\n",
    "#string,int,boolean,and list data types"
   ]
  },
  {
   "cell_type": "code",
   "execution_count": 38,
   "id": "cc84fa60-20ab-4763-98a1-4bee38934f58",
   "metadata": {},
   "outputs": [
    {
     "data": {
      "text/plain": [
       "(16, 56, 78)"
      ]
     },
     "execution_count": 38,
     "metadata": {},
     "output_type": "execute_result"
    }
   ],
   "source": [
    "salaries={'john':16, 'jane':56,'johnny':78}\n",
    "salaries['john'],salaries['jane'],salaries['johnny']\n"
   ]
  },
  {
   "cell_type": "code",
   "execution_count": 57,
   "id": "a68d6c06-a624-4ef3-ba50-1827d9af644d",
   "metadata": {},
   "outputs": [],
   "source": [
    "dict={\n",
    "    'brand':'ford',\n",
    "    'model':'mustang',\n",
    "    'year':'1978'\n",
    "}"
   ]
  },
  {
   "cell_type": "code",
   "execution_count": 58,
   "id": "06c830b8-ae11-43ff-b1ea-18a194d6dc29",
   "metadata": {},
   "outputs": [
    {
     "name": "stdout",
     "output_type": "stream",
     "text": [
      "{'brand': 'ford', 'model': 'mustang', 'year': '1978'}\n"
     ]
    }
   ],
   "source": [
    "print(dict)"
   ]
  },
  {
   "cell_type": "code",
   "execution_count": 59,
   "id": "790eeaff-9c95-4251-b4c9-c870d862b97e",
   "metadata": {},
   "outputs": [
    {
     "name": "stdout",
     "output_type": "stream",
     "text": [
      "3\n"
     ]
    }
   ],
   "source": [
    "print(len(dict))"
   ]
  },
  {
   "cell_type": "code",
   "execution_count": null,
   "id": "18a0efd4-4c16-476c-b139-1f047663d2b8",
   "metadata": {},
   "outputs": [],
   "source": []
  }
 ],
 "metadata": {
  "kernelspec": {
   "display_name": "Python 3 (ipykernel)",
   "language": "python",
   "name": "python3"
  },
  "language_info": {
   "codemirror_mode": {
    "name": "ipython",
    "version": 3
   },
   "file_extension": ".py",
   "mimetype": "text/x-python",
   "name": "python",
   "nbconvert_exporter": "python",
   "pygments_lexer": "ipython3",
   "version": "3.13.2"
  }
 },
 "nbformat": 4,
 "nbformat_minor": 5
}
