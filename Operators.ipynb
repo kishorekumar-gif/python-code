{
  "nbformat": 4,
  "nbformat_minor": 0,
  "metadata": {
    "colab": {
      "provenance": [],
      "authorship_tag": "ABX9TyPA3EYB3i0qlXbtR6lxRsCH",
      "include_colab_link": true
    },
    "kernelspec": {
      "name": "python3",
      "display_name": "Python 3"
    },
    "language_info": {
      "name": "python"
    }
  },
  "cells": [
    {
      "cell_type": "markdown",
      "metadata": {
        "id": "view-in-github",
        "colab_type": "text"
      },
      "source": [
        "<a href=\"https://colab.research.google.com/github/kishorekumar-gif/python-concepts/blob/main/Operators.ipynb\" target=\"_parent\"><img src=\"https://colab.research.google.com/assets/colab-badge.svg\" alt=\"Open In Colab\"/></a>"
      ]
    },
    {
      "cell_type": "code",
      "execution_count": null,
      "metadata": {
        "id": "K91Pj8a3-Amu"
      },
      "outputs": [],
      "source": [
        "\n"
      ]
    },
    {
      "cell_type": "code",
      "source": [
        "#operator name example\n",
        "#1% modulus x%y\n",
        "#2** exponentiation x**y\n",
        "#3// floor division x//y\n"
      ],
      "metadata": {
        "id": "nEKtojGS_eQN"
      },
      "execution_count": null,
      "outputs": []
    },
    {
      "cell_type": "code",
      "source": [
        "x = 5\n",
        "y = 4\n",
        "addition = x + y\n",
        "print(f'addition: {x} + {y} = {addition}')\n",
        "\n"
      ],
      "metadata": {
        "colab": {
          "base_uri": "https://localhost:8080/"
        },
        "id": "dnuhhoP_Ahlj",
        "outputId": "8a4d8d65-0a98-4e81-a426-8900fe76b0cc"
      },
      "execution_count": null,
      "outputs": [
        {
          "output_type": "stream",
          "name": "stdout",
          "text": [
            "addition: 5 + 4 = 9\n"
          ]
        }
      ]
    },
    {
      "cell_type": "code",
      "source": [
        "x=32\n",
        "y=7\n",
        "subraction =x-y\n",
        "print(f'subraction: {x} - {y} = {subraction}')"
      ],
      "metadata": {
        "colab": {
          "base_uri": "https://localhost:8080/"
        },
        "id": "9pvTs3rED-fn",
        "outputId": "5516d571-80b3-472f-9425-477b9696dd1d"
      },
      "execution_count": null,
      "outputs": [
        {
          "output_type": "stream",
          "name": "stdout",
          "text": [
            "subraction: 32 - 7 = 25\n"
          ]
        }
      ]
    },
    {
      "cell_type": "code",
      "source": [
        "modulus = x%y\n",
        "print(f'modulus: {x} % {y} = {modulus}')"
      ],
      "metadata": {
        "colab": {
          "base_uri": "https://localhost:8080/"
        },
        "id": "Lcq3ptBjFyQM",
        "outputId": "f084cb66-06b9-405f-8d96-32c0eab16e86"
      },
      "execution_count": null,
      "outputs": [
        {
          "output_type": "stream",
          "name": "stdout",
          "text": [
            "modulus: 32 % 7 = 4\n"
          ]
        }
      ]
    },
    {
      "cell_type": "code",
      "source": [
        "#exponentiation: first value will be base scnd value will be power of first\n",
        "x=34\n",
        "y=6\n",
        "exponentiation =x**y\n",
        "print(f'exponentiation: {x}**{y}={exponentiation}')"
      ],
      "metadata": {
        "colab": {
          "base_uri": "https://localhost:8080/"
        },
        "id": "--KKfAHqI3jj",
        "outputId": "64145855-147a-4739-f395-5317d4864ef3"
      },
      "execution_count": null,
      "outputs": [
        {
          "output_type": "stream",
          "name": "stdout",
          "text": [
            "exponentiation: 34**6=1544804416\n"
          ]
        }
      ]
    },
    {
      "cell_type": "code",
      "source": [
        "#floor division (//):divides the first number by the second and returns the closest integer less than equal to the result\n",
        "x=15\n",
        "y=4\n",
        "division=x/y\n",
        "floor_division =x//y\n",
        "print(f'floor_division:{x}//{y}={floor_division}')\n",
        "print(division)\n",
        "\n"
      ],
      "metadata": {
        "id": "WsLxXUEeNVdP",
        "colab": {
          "base_uri": "https://localhost:8080/"
        },
        "outputId": "41545515-76b8-43fd-b2d1-c0d44939da10"
      },
      "execution_count": null,
      "outputs": [
        {
          "output_type": "stream",
          "name": "stdout",
          "text": [
            "floor_division:15//4=3\n",
            "3.75\n"
          ]
        }
      ]
    },
    {
      "cell_type": "code",
      "source": [
        "x=5\n",
        "y=3\n",
        "modulus =x%y\n",
        "print(f'modulus:{x}%{y}={modulus}')\n"
      ],
      "metadata": {
        "colab": {
          "base_uri": "https://localhost:8080/"
        },
        "id": "bcq9DEpKzmke",
        "outputId": "12a3fccc-dc6c-435b-a658-715ec46f2bc5"
      },
      "execution_count": null,
      "outputs": [
        {
          "output_type": "stream",
          "name": "stdout",
          "text": [
            "modulus:5%3=2\n"
          ]
        }
      ]
    },
    {
      "cell_type": "code",
      "source": [
        "#python operators\n",
        "#arithmetic operators"
      ],
      "metadata": {
        "id": "krUjp3Sw_THU"
      },
      "execution_count": null,
      "outputs": []
    },
    {
      "cell_type": "code",
      "source": [
        "x=8\n",
        "x=9\n",
        "print(x)"
      ],
      "metadata": {
        "colab": {
          "base_uri": "https://localhost:8080/"
        },
        "id": "FQfo0Bzm7lxi",
        "outputId": "dff7cb20-eaa7-4091-9b37-c36b24282575"
      },
      "execution_count": null,
      "outputs": [
        {
          "output_type": "stream",
          "name": "stdout",
          "text": [
            "9\n"
          ]
        }
      ]
    },
    {
      "cell_type": "code",
      "source": [
        "# += addition assignment\n",
        "x+=3\n",
        "print(x)"
      ],
      "metadata": {
        "colab": {
          "base_uri": "https://localhost:8080/"
        },
        "id": "ii-9TNdA8UcF",
        "outputId": "08a5dfd4-b95f-447e-e754-abf922d9c0de"
      },
      "execution_count": null,
      "outputs": [
        {
          "output_type": "stream",
          "name": "stdout",
          "text": [
            "12\n"
          ]
        }
      ]
    },
    {
      "cell_type": "code",
      "source": [
        "# -= subtraction assignment\n",
        "x-=3\n",
        "print(x)"
      ],
      "metadata": {
        "colab": {
          "base_uri": "https://localhost:8080/"
        },
        "id": "xSWgOU5c8u5K",
        "outputId": "6bc2b7a2-c9cc-401b-d82a-a19e2d58ba71"
      },
      "execution_count": null,
      "outputs": [
        {
          "output_type": "stream",
          "name": "stdout",
          "text": [
            "9\n"
          ]
        }
      ]
    },
    {
      "cell_type": "code",
      "source": [
        "# *= multiplication assignment\n",
        "x*=3\n",
        "print(x)"
      ],
      "metadata": {
        "colab": {
          "base_uri": "https://localhost:8080/"
        },
        "id": "OvVAiBSs8-JT",
        "outputId": "30b5754d-bda7-4351-8d5b-d4b068de30f1"
      },
      "execution_count": null,
      "outputs": [
        {
          "output_type": "stream",
          "name": "stdout",
          "text": [
            "27\n"
          ]
        }
      ]
    },
    {
      "cell_type": "code",
      "source": [
        "# /= division assignment\n",
        "x/=3\n",
        "print(x)"
      ],
      "metadata": {
        "colab": {
          "base_uri": "https://localhost:8080/"
        },
        "id": "E7ilAbuS9LZL",
        "outputId": "f0d0ef10-55b6-4ab3-b1ba-9e81e6bd8c15"
      },
      "execution_count": null,
      "outputs": [
        {
          "output_type": "stream",
          "name": "stdout",
          "text": [
            "9.0\n"
          ]
        }
      ]
    },
    {
      "cell_type": "code",
      "source": [
        "# &= modulus assignment\n",
        "x%=3\n",
        "print(x)"
      ],
      "metadata": {
        "colab": {
          "base_uri": "https://localhost:8080/"
        },
        "id": "z3m1SOWX9WwW",
        "outputId": "0fc58682-6de4-49c1-ce7e-d8dfc5822120"
      },
      "execution_count": null,
      "outputs": [
        {
          "output_type": "stream",
          "name": "stdout",
          "text": [
            "0\n"
          ]
        }
      ]
    },
    {
      "cell_type": "code",
      "source": [
        "# //floor division \"\"\n",
        "x//=3\n",
        "print(x)"
      ],
      "metadata": {
        "colab": {
          "base_uri": "https://localhost:8080/"
        },
        "id": "f_kC_WSP9qno",
        "outputId": "f662aac9-e27f-4d32-c8f0-3a2688b97354"
      },
      "execution_count": null,
      "outputs": [
        {
          "output_type": "stream",
          "name": "stdout",
          "text": [
            "0\n"
          ]
        }
      ]
    },
    {
      "cell_type": "code",
      "source": [
        "# & bitwise AND assignment:\n",
        "# 0 0 =0\n",
        "# 0 1 =0\n",
        "# 1 0 =0\n",
        "# 1 1 =1\n"
      ],
      "metadata": {
        "id": "WLmae-b--bKl"
      },
      "execution_count": null,
      "outputs": []
    },
    {
      "cell_type": "code",
      "source": [],
      "metadata": {
        "id": "gASRpJ2UGW0B"
      },
      "execution_count": null,
      "outputs": []
    }
  ]
}